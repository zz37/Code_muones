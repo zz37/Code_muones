{
 "cells": [
  {
   "cell_type": "code",
   "execution_count": 1,
   "id": "f89690e5",
   "metadata": {},
   "outputs": [],
   "source": [
    "# Bethe-Bloch, para muon en Silicio\n",
    "# Forma de cociente I^2(1-β^2)\n",
    "\n",
    "#import ROOT\n",
    "import math\n",
    "import os,sys\n",
    "import numpy as np\n",
    "import matplotlib.pyplot as plt\n",
    "from matplotlib.ticker import ScalarFormatter\n",
    "import matplotlib as mpl"
   ]
  },
  {
   "cell_type": "code",
   "execution_count": 25,
   "id": "2c88d1fd",
   "metadata": {},
   "outputs": [],
   "source": [
    "# --- Constantes ---\n",
    "m_e = 9.109 * pow(10,-31)        # masa del e⁻ [Kg]\n",
    "c   = 3 * pow(10,8)              # vel. luz  [m/s]\n",
    "z   = 1                          # carga partícula entrante\n",
    "e   = 1.602 * pow(10,-19)        # carga del e⁻ [Coulomb]\n",
    "NA  = 6.022 * pow(10,23)         # num. avogadro [1/mol]\n",
    "Z   = 14\t\t\t\t         # num. atómico del Si\n",
    "rho = 2330                       # densidad Si [kg/m³]\n",
    "A   = 28 * pow(10,-3)            # masa atómica Si [kg/mol]\n",
    "n_e = Z * rho * NA/ A            # densidad e⁻, para meterial\n",
    "epsilon_0 = 8.854 * pow(10,-12.) # permitividad vacío [F/m]\n",
    "I = 2.77 * pow(10,-17)           # potencial de excitación medio [Joules]\n",
    "re = 2.8 * pow(10,-15)           # radio atm. e⁻ [m]\n",
    "\n",
    " \n",
    "# --- Constantes términos de corrección Bethe-Bloch ---\n",
    "hbar = 6.626 * pow(10,-34)/2/math.pi\n",
    "alpha = e**2 / (4 * math.pi * epsilon_0 * hbar * c)\n",
    "\n",
    "hnup = 4.9764 * pow(10,-18) # Joules, h * nu_p\n",
    "S0   = 0.201\n",
    "S1   = 2.872\n",
    "a    = 0.149\n",
    "md   = 3.255\n",
    "delta0 = 0.14\n",
    "M = 200 * m_e\n",
    "C = -2 * math.log(I/hnup) - 1\n",
    "\n",
    "# --- Funciones lambda ---\n",
    "sqr = lambda x: x*x   # potencia x²\n",
    "\n",
    "# --- Funciones def ---\n",
    "def gamma(beta):      # Ɣ = 1/√(1-β²)\n",
    "    return 1./math.sqrt(1-sqr(beta))\n",
    "\n",
    "def Bg(beta):         # β⋅Ɣ = β/√(1-β²)\n",
    "    return beta*gamma(beta)\n",
    "\n",
    "def Tmax(beta):\n",
    "    return 2*m_e*sqr(c) * sqr(Bg(beta)) / (1 + ( 2*gamma(beta)*m_e )/( M + sqr(m_e/M) )) \n",
    "\n",
    "def dedx(beta, flag_density=True, flag_beta = True):\n",
    "    temp_izq = (2*math.pi * n_e * sqr(z) * (e**4)) / (m_e * sqr(c) * sqr(beta) * sqr(4 * math.pi * epsilon_0))\n",
    "    \n",
    "    # arg. Logₑ()\n",
    "    num = 2 * m_e * sqr(beta) * sqr(c) * Tmax(beta)\n",
    "    den = I**2 * (1-sqr(beta))\n",
    "    dedx = temp_izq * (math.log(num/den))\n",
    "    \n",
    "    if flag_density:\n",
    "        dedx += temp_izq * (- density_stern(beta))\n",
    "    if flag_beta:\n",
    "        dedx += temp_izq * (-2*beta**2)\n",
    "        \n",
    "    dedx = dedx * .01 # convert to cm \n",
    "    dedx = dedx * 6.24 * pow(10,12) # convert to MeV\n",
    "    return dedx \n",
    "\n",
    "# --- Funciones términos de corrección --- \n",
    "def density(beta):\n",
    "    n = NA*rho*Z/A\n",
    "    pe = math.sqrt(4*math.pi*n*pow(re,3)) * m_e * c**2 / alpha\n",
    "    return 2*(math.log(pe/I) + math.log(Bg(beta))-0.5)\n",
    "\n",
    "def density_stern(beta):\n",
    "    '''Taken from Leroy, Radiative Interactions in Matter'''\n",
    "    if Bg(beta) < pow(10,S0):\n",
    "        delta = delta0 * pow(Bg(beta)/pow(10,S0),2)\n",
    "    elif Bg(beta) < pow(10,S1):\n",
    "        delta = 2 * math.log(Bg(beta)) + C + a * pow(1/math.log(10) * math.log(pow(10,S1)/Bg(beta)),md)\n",
    "    else:\n",
    "        delta = 2 * math.log(Bg(beta)) + C\n",
    "    return delta\n",
    "    "
   ]
  },
  {
   "cell_type": "code",
   "execution_count": 29,
   "id": "831700e6",
   "metadata": {},
   "outputs": [],
   "source": [
    "βs    = np.linspace(0.2,.99999999,100) # betas\n",
    "Xpts  = [Bg(betas) for betas in βs]    # puntos β⋅Ɣ \n",
    "Ypts_classical = [dedx(betas,False,False) for betas in βs ]\n",
    "Ypts_density   = [dedx(betas) for betas in βs]\n",
    "Ypts_nodensity = [dedx(betas,True,False) for betas in βs]"
   ]
  },
  {
   "cell_type": "code",
   "execution_count": 36,
   "id": "92704a44",
   "metadata": {},
   "outputs": [
    {
     "data": {
      "image/png": "[encoded data removed]",
      "text/plain": [
       "<Figure size 432x288 with 1 Axes>"
      ]
     },
     "metadata": {
      "needs_background": "light"
     },
     "output_type": "display_data"
    }
   ],
   "source": [
    "plt.plot(Xpts,Ypts_classical,'m--',linewidth=0.8, label = \"Classical Bethe-Bloch\")\n",
    "plt.plot(Xpts,Ypts_nodensity,'b--',linewidth=0.7, label = \"w. 2$\\\\beta^2$ term\")\n",
    "plt.plot(Xpts,Ypts_density,'turquoise',linewidth=2, label = \"w. $\\\\delta$ and 2$\\\\beta^2$ terms\")\n",
    "ax = plt.gca()\n",
    "plt.xscale(\"log\")\n",
    "plt.yscale(\"log\")\n",
    "plt.grid(True,which=\"both\",linewidth=0.5)\n",
    "ax.xaxis.set_major_formatter(ScalarFormatter())\n",
    "ax.yaxis.set_major_formatter(ScalarFormatter())\n",
    "ax.yaxis.set_minor_formatter(ScalarFormatter())\n",
    "ax.set_xlabel('$\\\\beta \\cdot \\\\gamma$',{'fontname':'Helvetica'})\n",
    "ax.set_ylabel('$<$dE/dx$>$ [MeV/cm]',{'fontname':'Helvetica'})\n",
    "ax.xaxis.label.set_size(18)\n",
    "ax.yaxis.label.set_size(18)\n",
    "ax.legend(loc=\"center right\")\n",
    "plt.show()\n"
   ]
  }
 ],
 "metadata": {
  "kernelspec": {
   "display_name": "Python 3 (ipykernel)",
   "language": "python",
   "name": "python3"
  },
  "language_info": {
   "codemirror_mode": {
    "name": "ipython",
    "version": 3
   },
   "file_extension": ".py",
   "mimetype": "text/x-python",
   "name": "python",
   "nbconvert_exporter": "python",
   "pygments_lexer": "ipython3",
   "version": "3.9.14"
  }
 },
 "nbformat": 4,
 "nbformat_minor": 5
}
